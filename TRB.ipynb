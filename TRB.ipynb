{
  "cells": [
    {
      "cell_type": "markdown",
      "metadata": {
        "id": "view-in-github",
        "colab_type": "text"
      },
      "source": [
        "<a href=\"https://colab.research.google.com/github/VirajOke/DeepSeek-V3/blob/main/TRB.ipynb\" target=\"_parent\"><img src=\"https://colab.research.google.com/assets/colab-badge.svg\" alt=\"Open In Colab\"/></a>"
      ]
    },
    {
      "cell_type": "markdown",
      "id": "c4a29b15",
      "metadata": {
        "id": "c4a29b15"
      },
      "source": [
        "## TRB\n",
        "- LLM\n",
        "- Instacart API\n",
        "- Walmart API"
      ]
    },
    {
      "cell_type": "markdown",
      "id": "94258f90",
      "metadata": {
        "id": "94258f90"
      },
      "source": [
        "#### GenLLM"
      ]
    },
    {
      "cell_type": "code",
      "execution_count": 1,
      "id": "7ca6ac7d",
      "metadata": {
        "id": "7ca6ac7d",
        "colab": {
          "base_uri": "https://localhost:8080/"
        },
        "outputId": "a8c0211e-a5ad-4368-918f-e8801ea40487"
      },
      "outputs": [
        {
          "output_type": "stream",
          "name": "stdout",
          "text": [
            "\u001b[?25l   \u001b[90m━━━━━━━━━━━━━━━━━━━━━━━━━━━━━━━━━━━━━━━━\u001b[0m \u001b[32m0.0/62.8 kB\u001b[0m \u001b[31m?\u001b[0m eta \u001b[36m-:--:--\u001b[0m\r\u001b[2K   \u001b[90m━━━━━━━━━━━━━━━━━━━━━━━━━━━━━━━━━━━━━━━━\u001b[0m \u001b[32m62.8/62.8 kB\u001b[0m \u001b[31m2.2 MB/s\u001b[0m eta \u001b[36m0:00:00\u001b[0m\n",
            "\u001b[?25h\u001b[?25l   \u001b[90m━━━━━━━━━━━━━━━━━━━━━━━━━━━━━━━━━━━━━━━━\u001b[0m \u001b[32m0.0/437.7 kB\u001b[0m \u001b[31m?\u001b[0m eta \u001b[36m-:--:--\u001b[0m\r\u001b[2K   \u001b[91m━━━━━━━━━━━━━━━━━━━━━━━━━━━━━━━━━━━━━━━\u001b[0m\u001b[90m╺\u001b[0m \u001b[32m430.1/437.7 kB\u001b[0m \u001b[31m17.3 MB/s\u001b[0m eta \u001b[36m0:00:01\u001b[0m\r\u001b[2K   \u001b[90m━━━━━━━━━━━━━━━━━━━━━━━━━━━━━━━━━━━━━━━━\u001b[0m \u001b[32m437.7/437.7 kB\u001b[0m \u001b[31m11.6 MB/s\u001b[0m eta \u001b[36m0:00:00\u001b[0m\n",
            "\u001b[2K   \u001b[90m━━━━━━━━━━━━━━━━━━━━━━━━━━━━━━━━━━━━━━━━\u001b[0m \u001b[32m1.2/1.2 MB\u001b[0m \u001b[31m31.5 MB/s\u001b[0m eta \u001b[36m0:00:00\u001b[0m\n",
            "\u001b[2K   \u001b[90m━━━━━━━━━━━━━━━━━━━━━━━━━━━━━━━━━━━━━━━━\u001b[0m \u001b[32m363.4/363.4 MB\u001b[0m \u001b[31m3.9 MB/s\u001b[0m eta \u001b[36m0:00:00\u001b[0m\n",
            "\u001b[2K   \u001b[90m━━━━━━━━━━━━━━━━━━━━━━━━━━━━━━━━━━━━━━━━\u001b[0m \u001b[32m13.8/13.8 MB\u001b[0m \u001b[31m96.6 MB/s\u001b[0m eta \u001b[36m0:00:00\u001b[0m\n",
            "\u001b[2K   \u001b[90m━━━━━━━━━━━━━━━━━━━━━━━━━━━━━━━━━━━━━━━━\u001b[0m \u001b[32m24.6/24.6 MB\u001b[0m \u001b[31m62.2 MB/s\u001b[0m eta \u001b[36m0:00:00\u001b[0m\n",
            "\u001b[2K   \u001b[90m━━━━━━━━━━━━━━━━━━━━━━━━━━━━━━━━━━━━━━━━\u001b[0m \u001b[32m883.7/883.7 kB\u001b[0m \u001b[31m41.8 MB/s\u001b[0m eta \u001b[36m0:00:00\u001b[0m\n",
            "\u001b[2K   \u001b[90m━━━━━━━━━━━━━━━━━━━━━━━━━━━━━━━━━━━━━━━━\u001b[0m \u001b[32m664.8/664.8 MB\u001b[0m \u001b[31m1.2 MB/s\u001b[0m eta \u001b[36m0:00:00\u001b[0m\n",
            "\u001b[2K   \u001b[90m━━━━━━━━━━━━━━━━━━━━━━━━━━━━━━━━━━━━━━━━\u001b[0m \u001b[32m211.5/211.5 MB\u001b[0m \u001b[31m5.8 MB/s\u001b[0m eta \u001b[36m0:00:00\u001b[0m\n",
            "\u001b[2K   \u001b[90m━━━━━━━━━━━━━━━━━━━━━━━━━━━━━━━━━━━━━━━━\u001b[0m \u001b[32m56.3/56.3 MB\u001b[0m \u001b[31m12.2 MB/s\u001b[0m eta \u001b[36m0:00:00\u001b[0m\n",
            "\u001b[2K   \u001b[90m━━━━━━━━━━━━━━━━━━━━━━━━━━━━━━━━━━━━━━━━\u001b[0m \u001b[32m127.9/127.9 MB\u001b[0m \u001b[31m6.7 MB/s\u001b[0m eta \u001b[36m0:00:00\u001b[0m\n",
            "\u001b[2K   \u001b[90m━━━━━━━━━━━━━━━━━━━━━━━━━━━━━━━━━━━━━━━━\u001b[0m \u001b[32m207.5/207.5 MB\u001b[0m \u001b[31m4.9 MB/s\u001b[0m eta \u001b[36m0:00:00\u001b[0m\n",
            "\u001b[2K   \u001b[90m━━━━━━━━━━━━━━━━━━━━━━━━━━━━━━━━━━━━━━━━\u001b[0m \u001b[32m21.1/21.1 MB\u001b[0m \u001b[31m64.3 MB/s\u001b[0m eta \u001b[36m0:00:00\u001b[0m\n",
            "\u001b[?25h"
          ]
        }
      ],
      "source": [
        "! pip install -U langchain-openai -q\n",
        "! pip install torch -q"
      ]
    },
    {
      "cell_type": "code",
      "execution_count": 6,
      "id": "81a03da0",
      "metadata": {
        "id": "81a03da0"
      },
      "outputs": [],
      "source": [
        "#LLM Imports\n",
        "import os\n",
        "import torch\n",
        "from langchain_openai import OpenAI\n",
        "from langchain.prompts import PromptTemplate\n",
        "from langchain.chains import LLMChain\n",
        "from langchain_core.prompts import PromptTemplate\n",
        "from langchain_core.output_parsers import StrOutputParser\n",
        "from google.colab import userdata\n",
        "\n",
        "#API Imports\n",
        "import http.client"
      ]
    },
    {
      "cell_type": "code",
      "source": [
        "class TRBGenLLM():\n",
        "    def __init__(self, model_name):\n",
        "        os.environ[\"OPENAI_API_KEY\"] = str(userdata.get('OpenAI_Key'))\n",
        "        self.model_name = model_name\n",
        "        self.llm = OpenAI(model = self.model_name,\n",
        "                    temperature = 0,\n",
        "                    max_retries = 2,\n",
        "            )\n",
        "    def generate_trb(self):\n",
        "        #put the promt in secrets\n",
        "        prompt_template = \"\"\"You are a food shopping assistant.\n",
        "\n",
        "        Your task is to generate a **complete** list of ingredients required to prepare the given dish from scratch, along with realistic shopping cart quantities for each item. Include all commonly used items such as base ingredients, herbs, oils, and condiments typically required for the recipe.\n",
        "\n",
        "        Each ingredient must be represented as a JSON object with the following keys:\n",
        "\n",
        "        - \"ingredient\": the name of the ingredient\n",
        "        - \"quantity\": a whole number (e.g., 1, 2, 3) representing how many units to add to the cart\n",
        "        - \"unit\": the packaging type only (e.g., \"packet\", \"bottle\", \"can\", \"bunch\", \"tube\", \"pieces \")\n",
        "\n",
        "        Guidelines:\n",
        "        - Use commonly available grocery packaging types without mentioning specific weights or volumes.\n",
        "        - Adjust the quantity to suit the number of people being served.\n",
        "        - Ensure quantities are practical and suitable for a typical shopping scenario.\n",
        "        - Return a well-formed JSON array.\n",
        "        - Do **not** include any additional explanation, headers, or text. Output **only** the JSON array.\n",
        "\n",
        "        Dish: {dish_name}\n",
        "        Servings: {number_of_people}\"\"\"\n",
        "\n",
        "        prompt_input = PromptTemplate(template = prompt_template)\n",
        "        llm_chain = prompt_input | self.llm | StrOutputParser()\n",
        "        response = llm_chain.invoke(input={\"dish_name\": \"Pesto pasta\", \"number_of_people\": \"2\"})\n",
        "        return print(response)"
      ],
      "metadata": {
        "id": "0NPar7zrtjAo"
      },
      "id": "0NPar7zrtjAo",
      "execution_count": 22,
      "outputs": []
    },
    {
      "cell_type": "code",
      "source": [
        "trb_gen_ai_obj = TRBGenLLM(\"gpt-3.5-turbo-instruct\")\n",
        "trb_gen_ai_obj.generate_trb()"
      ],
      "metadata": {
        "id": "CAmaU2qx-dgP",
        "colab": {
          "base_uri": "https://localhost:8080/"
        },
        "outputId": "80dbccba-51b4-4e00-996b-d242bdf2b2d7"
      },
      "id": "CAmaU2qx-dgP",
      "execution_count": 23,
      "outputs": [
        {
          "output_type": "stream",
          "name": "stdout",
          "text": [
            "\n",
            "\n",
            "        [\n",
            "          {\n",
            "            \"ingredient\": \"pasta\",\n",
            "            \"quantity\": 1,\n",
            "            \"unit\": \"packet\"\n",
            "          },\n",
            "          {\n",
            "            \"ingredient\": \"basil\",\n",
            "            \"quantity\": 1,\n",
            "            \"unit\": \"bunch\"\n",
            "          },\n",
            "          {\n",
            "            \"ingredient\": \"garlic\",\n",
            "            \"quantity\": 2,\n",
            "            \"unit\": \"cloves\"\n",
            "          },\n",
            "          {\n",
            "            \"ingredient\": \"pine nuts\",\n",
            "            \"quantity\": 1,\n",
            "            \"unit\": \"packet\"\n",
            "          },\n",
            "          {\n",
            "            \"ingredient\": \"parmesan cheese\",\n",
            "            \"quantity\": 1,\n",
            "            \"unit\": \"packet\"\n",
            "          },\n",
            "          {\n",
            "            \"ingredient\": \"olive oil\",\n",
            "            \"quantity\": 1,\n",
            "            \"unit\": \"bottle\"\n",
            "          },\n",
            "          {\n",
            "            \"ingredient\": \"salt\",\n",
            "            \"quantity\": 1,\n",
            "            \"unit\": \"packet\"\n",
            "          },\n",
            "          {\n",
            "            \"ingredient\": \"pepper\",\n",
            "            \"quantity\": 1,\n",
            "            \"unit\": \"packet\"\n",
            "          }\n",
            "        ]\n"
          ]
        }
      ]
    },
    {
      "cell_type": "code",
      "source": [],
      "metadata": {
        "id": "0wuDyHdO-dUh"
      },
      "id": "0wuDyHdO-dUh",
      "execution_count": null,
      "outputs": []
    },
    {
      "cell_type": "markdown",
      "id": "3754c458",
      "metadata": {
        "id": "3754c458"
      },
      "source": [
        "#### Instacart API:"
      ]
    },
    {
      "cell_type": "code",
      "execution_count": null,
      "id": "4d00aa64",
      "metadata": {
        "id": "4d00aa64"
      },
      "outputs": [],
      "source": [
        "conn = http.client.HTTPSConnection(\"connect.instacart.com\")\n",
        "\n",
        "payload = \"{\\n  \\\"title\\\": \\\"string\\\",\\n  \\\"image_url\\\": \\\"string\\\",\\n  \\\"link_type\\\": \\\"string\\\",\\n  \\\"expires_in\\\": 1,\\n  \\\"instructions\\\": [\\n    \\\"string\\\"\\n  ],\\n  \\\"line_items\\\": [\\n    {\\n      \\\"name\\\": \\\"string\\\",\\n      \\\"quantity\\\": 1,\\n      \\\"unit\\\": \\\"string\\\",\\n      \\\"display_text\\\": \\\"string\\\",\\n      \\\"line_item_measurements\\\": [\\n        {\\n          \\\"quantity\\\": 1,\\n          \\\"unit\\\": \\\"string\\\"\\n        }\\n      ],\\n      \\\"filters\\\": {\\n        \\\"brand_filters\\\": [\\n          \\\"string\\\"\\n        ],\\n        \\\"health_filters\\\": [\\n          \\\"string\\\"\\n        ]\\n      }\\n    }\\n  ],\\n  \\\"landing_page_configuration\\\": {\\n    \\\"partner_linkback_url\\\": \\\"string\\\",\\n    \\\"enable_pantry_items\\\": true\\n  }\\n}\"\n",
        "\n",
        "headers = {\n",
        "    'Accept': \"application/json\",\n",
        "    'Content-Type': \"application/json\",\n",
        "    'Authorization': \"Bearer <API-key>\"\n",
        "    }\n",
        "\n",
        "conn.request(\"POST\", \"/idp/v1/products/products_link\", payload, headers)\n",
        "\n",
        "res = conn.getresponse()\n",
        "data = res.read()\n",
        "\n",
        "print(data.decode(\"utf-8\"))"
      ]
    }
  ],
  "metadata": {
    "kernelspec": {
      "display_name": "Python 3",
      "name": "python3"
    },
    "language_info": {
      "codemirror_mode": {
        "name": "ipython",
        "version": 3
      },
      "file_extension": ".py",
      "mimetype": "text/x-python",
      "name": "python",
      "nbconvert_exporter": "python",
      "pygments_lexer": "ipython3",
      "version": "3.12.1"
    },
    "colab": {
      "provenance": [],
      "include_colab_link": true
    }
  },
  "nbformat": 4,
  "nbformat_minor": 5
}